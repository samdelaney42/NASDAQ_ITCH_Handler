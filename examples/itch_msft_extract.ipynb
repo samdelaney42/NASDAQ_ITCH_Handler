{
 "cells": [
  {
   "cell_type": "code",
   "execution_count": 1,
   "metadata": {},
   "outputs": [],
   "source": [
    "import struct\n",
    "import sys\n",
    "import gzip\n",
    "import shutil\n",
    "from pathlib import Path\n",
    "from urllib.request import urlretrieve\n",
    "from urllib.parse import urljoin\n",
    "\n",
    "sys.path.append('../src')"
   ]
  },
  {
   "cell_type": "code",
   "execution_count": 2,
   "metadata": {},
   "outputs": [],
   "source": [
    "# data saved on external drive due to size \n",
    "data_path = Path(\"../../../../Volumes/external_drive/nasdaq_itch/data\")\n",
    "URL = \"https://emi.nasdaq.com/ITCH/Nasdaq%20ITCH/\"\n",
    "SOURCE_FILE = \"12302019.NASDAQ_ITCH50.gz\""
   ]
  },
  {
   "cell_type": "code",
   "execution_count": 3,
   "metadata": {},
   "outputs": [],
   "source": [
    "def may_be_download(url):\n",
    "    \"\"\"Download & unzip ITCH data if not yet available\"\"\"\n",
    "    if not data_path.exists():\n",
    "        print('Creating directory')\n",
    "        data_path.mkdir()\n",
    "    else: \n",
    "        print('Directory exists')\n",
    "\n",
    "    filename = data_path / url.split('/')[-1]        \n",
    "    if not filename.exists():\n",
    "        print('Downloading...', url)\n",
    "        urlretrieve(url, filename)\n",
    "    else: \n",
    "        print('File exists')        \n",
    "\n",
    "    unzipped = data_path / (filename.stem + '.bin')\n",
    "    if not unzipped.exists():\n",
    "        print('Unzipping to', unzipped)\n",
    "        with gzip.open(str(filename), 'rb') as f_in:\n",
    "            with open(unzipped, 'wb') as f_out:\n",
    "                shutil.copyfileobj(f_in, f_out)\n",
    "    else: \n",
    "        print('File already unpacked')\n",
    "    return unzipped"
   ]
  },
  {
   "cell_type": "code",
   "execution_count": 4,
   "metadata": {},
   "outputs": [
    {
     "name": "stdout",
     "output_type": "stream",
     "text": [
      "Directory exists\n",
      "File exists\n",
      "File already unpacked\n"
     ]
    }
   ],
   "source": [
    "file_name = may_be_download(urljoin(URL, SOURCE_FILE))"
   ]
  },
  {
   "cell_type": "code",
   "execution_count": 5,
   "metadata": {},
   "outputs": [],
   "source": [
    "# use > becasue all are big-endian\n",
    "message_types = {'A': '>HH6sQsI8sI',\n",
    "                 'B': '>HH6sQ',\n",
    "                 'C': '>HH6sQIQsI',\n",
    "                 'D': '>HH6sQ',\n",
    "                 'E': '>HH6sQIQ',\n",
    "                 'F': '>HH6sQsI8sI4s',\n",
    "                 'H': '>HH6s8sss4s',\n",
    "                 'I': '>HH6sQQs8sIIIss',\n",
    "                 'J': '>HH6s8sIIII',\n",
    "                 'K': '>HH6s8sIsI',\n",
    "                 'L': '>HH6s4s8ssss',\n",
    "                 'P': '>HH6sQsI8sIQ',\n",
    "                 'Q': '>HH6sQ8sIQs',\n",
    "                 'R': '>HH6s8sssIss2ssssssIs',\n",
    "                 'S': '>HH6ss',\n",
    "                 'U': '>HH6sQQII',\n",
    "                 'V': '>HH6sQQQ',\n",
    "                 'W': '>HH6ss',\n",
    "                 'X': '>HH6sQI',\n",
    "                 'Y': '>HH6s8ss',\n",
    "                 'h': '>HH6s8sss'}\n"
   ]
  },
  {
   "cell_type": "code",
   "execution_count": 6,
   "metadata": {},
   "outputs": [
    {
     "data": {
      "text/plain": [
       "1220971"
      ]
     },
     "execution_count": 6,
     "metadata": {},
     "output_type": "execute_result"
    }
   ],
   "source": [
    "output_msft_file = \"msft.bin\"\n",
    "count = 0\n",
    "with file_name.open('rb') as data, open(output_msft_file, 'wb') as outfile:\n",
    "    while True:\n",
    "    #for i in range(50_000_000):\n",
    "        # determine message size in bytes\n",
    "        message_size = int.from_bytes(data.read(2), byteorder='big', signed=False)\n",
    "        message_type = data.read(1).decode('ascii')  \n",
    "        try:\n",
    "            # using the message size, read the relevant number of bytes\n",
    "            binary_stream = data.read(message_size - 1)\n",
    "            # to get only msft events, first find the stock_locate attribute\n",
    "            if message_type == \"S\":\n",
    "                s_message = struct.unpack(message_types[message_type], binary_stream)\n",
    "                if s_message[3].decode('ascii') == 'C':\n",
    "                    break\n",
    "            elif message_type == \"R\":\n",
    "                r_message = struct.unpack(message_types[message_type], binary_stream)\n",
    "                # find msft\n",
    "                if r_message[3].decode('ascii').strip() == 'MSFT':\n",
    "                    msft_stock_locate = r_message[0]\n",
    "            # read all stock messages\n",
    "            elif message_type in [\"A\", \"F\", \"E\", \"C\", \"X\", \"U\", \"D\", \"P\", \"Q\"]:\n",
    "                message = struct.unpack(message_types[message_type], binary_stream)\n",
    "                # repackage all msft ones and save to their own file\n",
    "                if message[0] == msft_stock_locate:\n",
    "                    # add the event type back\n",
    "                    new_fmt = message_types[message_type]\n",
    "                    new_fmt = new_fmt.strip(\">\")\n",
    "                    repackaged = struct.pack(\">c\"+new_fmt, message_type.encode('ascii'), *message)\n",
    "                    # check the length of this message\n",
    "                    # repackage again, this time including the lenght\n",
    "                    repackaged_w_len = struct.pack(\">Hc\"+new_fmt, len(repackaged)+1, message_type.encode('ascii'), *message)\n",
    "                    outfile.write(repackaged_w_len)\n",
    "                    count+=1\n",
    "            else:\n",
    "                pass\n",
    "        except Exception as e:\n",
    "            print(e)\n",
    "\n",
    "count"
   ]
  },
  {
   "cell_type": "code",
   "execution_count": null,
   "metadata": {},
   "outputs": [],
   "source": []
  }
 ],
 "metadata": {
  "kernelspec": {
   "display_name": "Python 3",
   "language": "python",
   "name": "python3"
  },
  "language_info": {
   "codemirror_mode": {
    "name": "ipython",
    "version": 3
   },
   "file_extension": ".py",
   "mimetype": "text/x-python",
   "name": "python",
   "nbconvert_exporter": "python",
   "pygments_lexer": "ipython3",
   "version": "3.8.5"
  },
  "orig_nbformat": 4
 },
 "nbformat": 4,
 "nbformat_minor": 2
}
